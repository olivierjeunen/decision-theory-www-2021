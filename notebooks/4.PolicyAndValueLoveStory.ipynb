{
 "cells": [
  {
   "cell_type": "markdown",
   "metadata": {},
   "source": [
    "# Policy & Value : A Love Story"
   ]
  },
  {
   "cell_type": "markdown",
   "metadata": {},
   "source": [
    "In this notebook, we want to show how value and policy based models perform in two different settings :\n",
    "- A Recommendation Setting with **Dense Reward** : We can think of a streaming plateform with rewards equal to the time spent on watching videos.\n",
    "- A Recommendation Setting with **Sparse Reward** : We can think of a system serving Ads with the reward being the click on the Ad.\n",
    "\n",
    "And how we can combine them in what is known in the litterature as **DRL** : Doubly Robust Learning to achieve better performances (or not) depending on the setting.\n",
    "\n",
    "To make our comparison more complete, we are going to analyse theoretically DRL to shed light on the settings where it performs better than naive policy based learning."
   ]
  },
  {
   "cell_type": "code",
   "execution_count": 1,
   "metadata": {},
   "outputs": [],
   "source": [
    "import numpy as np\n",
    "import matplotlib.pyplot as plt\n",
    "from scipy.special import expit\n",
    "from tqdm import tqdm\n",
    "\n",
    "import seaborn as sns\n",
    "sns.set()\n",
    "\n",
    "import torch \n",
    "from torch import nn, optim\n",
    "\n",
    "torch.manual_seed(0)\n",
    "np.random.seed(0)"
   ]
  },
  {
   "cell_type": "markdown",
   "metadata": {},
   "source": [
    "Before diving into the comparisons, we first need to build a simulator of the settings in which we want to compare our models.\n",
    "\n",
    "\n",
    "In both settings :\n",
    "\n",
    "- We denote by **d** the dimension of the **context** $x$ which are user features (interests, location, age etc). In our problem, $x \\sim U([0,1])^d$.\n",
    "- We denote by **K** the number of actions our system can perform (the number of movies it can recommend, the number of products we want to advertise etc)\n",
    "\n",
    "Given a user context $x$, our system recommends the action $a$ and gets a reward $r(a,x)$ (its either dense $\\in [0, 1]$ or binary $\\in \\{0, 1\\}$ depending on the settings). It should be noted that in real world problems, the reward is a very complex function of both the contexts and actions, and we want to capture that with our simulator too."
   ]
  },
  {
   "cell_type": "markdown",
   "metadata": {},
   "source": [
    "To make the notebook as illustrative as possible, we take **d** = 10, and **K** = 5. Feel free to modify them to get a better intuition of the behavior of the different models in problems with bigger dimensions or larger action spaces."
   ]
  },
  {
   "cell_type": "code",
   "execution_count": 2,
   "metadata": {},
   "outputs": [],
   "source": [
    "d = 10\n",
    "K = 5"
   ]
  },
  {
   "cell_type": "markdown",
   "metadata": {},
   "source": [
    "The next code block defines how the reward is distributed given contexts and actions in both the binary (clicks) and dense (watchtimes) settings."
   ]
  },
  {
   "cell_type": "code",
   "execution_count": 3,
   "metadata": {},
   "outputs": [],
   "source": [
    "h = 2\n",
    "eps = 0.1\n",
    "\n",
    "theta_star_1 = np.random.randn(d, h)\n",
    "theta_star_2 = np.random.rand(h, K)\n",
    "\n",
    "def misspecification_transform(context):\n",
    "    h1 = np.cos(context) + np.sin(context) - np.log(np.exp(context) + 1.) \n",
    "    h2 = h1@theta_star_1\n",
    "    return h2\n",
    "\n",
    "def true_mean_reward(context, action):\n",
    "    h = misspecification_transform(context)\n",
    "    return np.sin(h@theta_star_2[:,action]) + .8\n",
    "\n",
    "def observed_reward(context, action, setting):\n",
    "    \n",
    "    if setting == 'dense': \n",
    "        return np.clip(true_mean_reward(context, action) + eps*np.random.randn() , 0., 2.)/2.\n",
    "    \n",
    "    return (1. + np.sign(-1.79 + true_mean_reward(context, action)))/2.\n",
    "        "
   ]
  },
  {
   "cell_type": "markdown",
   "metadata": {},
   "source": [
    "In our setting, we imagine that we don't have any information about the users that will interact with our system, and want to gather some data with which we're gonna build a good recommendation engine. To do so, we're gonna deploy a policy (system) that recommends products to users randomly. \n",
    "\n",
    "For any user context $x_i$, we show uniformly (with probability $p_i = \\pi_0(a_i|x_i) = \\frac{1}{K}$ a product $a_i$ from our catalog and get a feedback $r_i = r(x_i, a_i)$, we then log $D_i = (x_i, a_i, \\pi_0(a_i|x_i), r_i)$\n",
    "\n",
    "We denote by **N** the number of user contexts needed to build our first dataset $D = \\{D_i\\}_{\\{1 \\le i \\le N\\}}$.\n",
    "\n",
    "In our example, **N = 5000** ."
   ]
  },
  {
   "cell_type": "code",
   "execution_count": 4,
   "metadata": {},
   "outputs": [],
   "source": [
    "catalog = np.arange(K)\n",
    "pi_0 = np.ones(K)/K\n",
    "\n",
    "N = 5000"
   ]
  },
  {
   "cell_type": "markdown",
   "metadata": {},
   "source": [
    "The next block defines the interaction routine of the online system with the users. (One routine to collect the data and one specialized in A/B Testing the models)"
   ]
  },
  {
   "cell_type": "code",
   "execution_count": 5,
   "metadata": {},
   "outputs": [],
   "source": [
    "def online_system_simulator(current_system, size, setting = 'dense'):\n",
    "    contexts, actions, propensities, rewards = [], [], [], []\n",
    "    \n",
    "    for _ in range(size):\n",
    "        context = np.random.randn(d)\n",
    "        action = np.random.choice(catalog, p = pi_0)\n",
    "        propensity = current_system[action]\n",
    "        reward = observed_reward(context, action, setting)\n",
    "\n",
    "        contexts.append(context)\n",
    "        actions.append(action)\n",
    "        propensities.append(propensity)\n",
    "        rewards.append(reward)\n",
    "        \n",
    "    return contexts, actions, propensities, rewards\n",
    "\n",
    "def AB_test_greedy(models, size, setting = 'dense'):\n",
    "    rewards = [[] for _ in range(len(models))]\n",
    "    for _ in tqdm(range(size)):\n",
    "        context = np.random.randn(d)\n",
    "        torch_context = torch.Tensor(context)\n",
    "        for i, model in enumerate(models):\n",
    "            rewards_pred = model(torch_context).detach().numpy()\n",
    "            action = np.argmax(rewards_pred)\n",
    "            reward = observed_reward(context, action, setting)\n",
    "            rewards[i].append(reward)\n",
    "        \n",
    "    return [np.mean(model_reward) for model_reward in rewards]"
   ]
  },
  {
   "cell_type": "markdown",
   "metadata": {},
   "source": [
    "### Watch Time Setting : Dense Rewards "
   ]
  },
  {
   "cell_type": "markdown",
   "metadata": {},
   "source": [
    "We deploy our first system to collect/log a dataset from which we want to learn a good recommendation engine."
   ]
  },
  {
   "cell_type": "code",
   "execution_count": 6,
   "metadata": {},
   "outputs": [],
   "source": [
    "contexts, actions, propensities, rewards = online_system_simulator(current_system = pi_0, size = N)"
   ]
  },
  {
   "cell_type": "markdown",
   "metadata": {},
   "source": [
    "Let's have a look at the distribution of the rewards gotten in this setting :"
   ]
  },
  {
   "cell_type": "code",
   "execution_count": 7,
   "metadata": {},
   "outputs": [
    {
     "name": "stdout",
     "output_type": "stream",
     "text": [
      "the average reward of the logging policy (Random) is 0.3250\n"
     ]
    },
    {
     "data": {
      "image/png": "[encoded data removed]",
      "text/plain": [
       "<Figure size 432x288 with 1 Axes>"
      ]
     },
     "metadata": {
      "needs_background": "light"
     },
     "output_type": "display_data"
    }
   ],
   "source": [
    "logging_results = np.mean(rewards)\n",
    "print(\"the average reward of the logging policy (Random) is %.4f\"%logging_results)\n",
    "sns.distplot(rewards)\n",
    "plt.show()"
   ]
  },
  {
   "cell_type": "markdown",
   "metadata": {},
   "source": [
    "Let's compare how the different learning frameworks behave in this setting. We are going to use *simple linear functions* for both the reward model and the policy. In both cases, we are trying to learn a parameter $\\theta$, which is a matrix of dimension **d x K**. \n",
    "\n",
    "All the models are implemented with Pytorch."
   ]
  },
  {
   "cell_type": "markdown",
   "metadata": {},
   "source": [
    "### Learning a Value model :\n",
    "\n",
    "Our value model is a simple linear regression from the contexts to the reward vector for each action: $ \\hat{r}_\\theta(x,a) = \\theta_a^Tx $ with $\\theta_a$ being the ath column of our matrix.\n",
    "\n",
    "For a single datapoint $D_i$, the loss function (the negative loglikelihood up to a constant) of our model is :\n",
    "\n",
    "$$ LM(\\hat{r}_\\theta, D_i) = (\\hat{r}_\\theta(x_i, a_i) - r_i)^2 $$\n",
    "\n",
    "We optimize the average loss over the whole datapoints to obtain the minimum $\\hat{r}^*$."
   ]
  },
  {
   "cell_type": "code",
   "execution_count": 8,
   "metadata": {},
   "outputs": [],
   "source": [
    "class reward_model(torch.nn.Module):\n",
    "    def __init__(self, d, K):\n",
    "        super(reward_model, self).__init__()\n",
    "        self.theta = torch.nn.Linear(d, K)\n",
    "\n",
    "    def forward(self, x):\n",
    "        return self.theta(x)"
   ]
  },
  {
   "cell_type": "code",
   "execution_count": 9,
   "metadata": {},
   "outputs": [],
   "source": [
    "value_based_model = reward_model(d, K)\n",
    "\n",
    "contexts_torch = torch.Tensor(contexts)\n",
    "rewards_torch = torch.Tensor(rewards)\n",
    "propensities_torch = torch.Tensor(propensities)"
   ]
  },
  {
   "cell_type": "code",
   "execution_count": 10,
   "metadata": {},
   "outputs": [],
   "source": [
    "iterations = 50_000"
   ]
  },
  {
   "cell_type": "code",
   "execution_count": 11,
   "metadata": {},
   "outputs": [
    {
     "data": {
      "image/png": "[encoded data removed]",
      "text/plain": [
       "<Figure size 432x288 with 1 Axes>"
      ]
     },
     "metadata": {
      "needs_background": "light"
     },
     "output_type": "display_data"
    }
   ],
   "source": [
    "loss_function = torch.nn.MSELoss(reduction='mean')\n",
    "optimizer = torch.optim.SGD(value_based_model.parameters(), lr=1e-2, weight_decay=1/N)\n",
    "losses = []\n",
    "\n",
    "for it in range(iterations):\n",
    "    full_rewards_pred = value_based_model(contexts_torch)\n",
    "    action_rewards = full_rewards_pred[np.arange(N), actions]\n",
    "    loss = loss_function(action_rewards, rewards_torch)\n",
    "    losses.append(loss.item())\n",
    "    if (it > 100) and np.isclose(losses[-1], losses[-2], atol=.0, rtol=1e-8) : break\n",
    "    optimizer.zero_grad()\n",
    "    loss.backward()\n",
    "    optimizer.step()\n",
    "\n",
    "plt.plot(np.arange(it + 1), losses)\n",
    "plt.show()"
   ]
  },
  {
   "cell_type": "markdown",
   "metadata": {},
   "source": [
    "### Learning a Policy with IPS :\n",
    "\n",
    "Same for policy learning, we use a simple linear function transformed with a softmax to define probabilities for each context. \n",
    "\n",
    "$$ \\pi_\\theta(a|x) = \\frac{\\exp(\\theta_a^Tx)}{\\sum_a \\exp(\\theta_a^Tx)} $$ with $\\theta_a$ being the ath column of our matrix.\n",
    "\n",
    "For a single datapoint $D_i$, the loss function for policy learning is the IPS estimate:\n",
    "\n",
    "$$ L_{IPS}(\\pi_\\theta, D_i) = -r_i\\frac{\\pi_\\theta(a_i|x_i)}{\\pi_0(a_i|x_i)} $$\n",
    "\n",
    "We optimize the average loss over the whole datapoints to obtain a good policy $\\pi^*$."
   ]
  },
  {
   "cell_type": "code",
   "execution_count": 12,
   "metadata": {},
   "outputs": [],
   "source": [
    "class policy_model(torch.nn.Module):\n",
    "    def __init__(self, d, K):\n",
    "        super(policy_model, self).__init__()\n",
    "        self.theta = torch.nn.Linear(d, K)\n",
    "\n",
    "    def forward(self, x):\n",
    "        return nn.functional.softmax(self.theta(x), dim = -1)"
   ]
  },
  {
   "cell_type": "code",
   "execution_count": 13,
   "metadata": {},
   "outputs": [],
   "source": [
    "policy_ips = policy_model(d, K)"
   ]
  },
  {
   "cell_type": "code",
   "execution_count": 14,
   "metadata": {},
   "outputs": [
    {
     "data": {
      "image/png": "[encoded data removed]",
      "text/plain": [
       "<Figure size 432x288 with 1 Axes>"
      ]
     },
     "metadata": {
      "needs_background": "light"
     },
     "output_type": "display_data"
    }
   ],
   "source": [
    "optimizer = torch.optim.SGD(policy_ips.parameters(), lr=1e-2, weight_decay=1/N)\n",
    "losses = []\n",
    "\n",
    "for it in range(iterations):\n",
    "    policy_probs = policy_ips(contexts_torch)\n",
    "    actions_probs = policy_probs[np.arange(N), actions]\n",
    "    loss = - torch.mean((actions_probs * rewards_torch)/propensities_torch)\n",
    "    losses.append(loss.item())\n",
    "    optimizer.zero_grad()\n",
    "    loss.backward()\n",
    "    optimizer.step()\n",
    "\n",
    "plt.plot(np.arange(iterations), losses)\n",
    "plt.show()"
   ]
  },
  {
   "cell_type": "markdown",
   "metadata": {},
   "source": [
    "- You can observe that the loss of value learning converges directly to a minimum which is actually the global minimum as the loss (negative likelihood of a linear regression) is convex.\n",
    "- For policy however, its loss is not convex and even after 50K Gradient Descent Iterations, the loss is still improving trying to saturate the learned policy."
   ]
  },
  {
   "cell_type": "markdown",
   "metadata": {},
   "source": [
    "### Testing the models online\n",
    "\n",
    "The following block will launch an A/B test to test out both the models on a huge number of users to get a fair and noiseless comparison."
   ]
  },
  {
   "cell_type": "code",
   "execution_count": 15,
   "metadata": {},
   "outputs": [],
   "source": [
    "N_test = 100_000"
   ]
  },
  {
   "cell_type": "code",
   "execution_count": 16,
   "metadata": {},
   "outputs": [
    {
     "name": "stderr",
     "output_type": "stream",
     "text": [
      "100%|██████████| 100000/100000 [00:28<00:00, 3483.30it/s]\n"
     ]
    },
    {
     "name": "stdout",
     "output_type": "stream",
     "text": [
      "the reward for value based learning is 0.3997\n",
      "the reward for policy based learning - IPS is 0.4104\n"
     ]
    }
   ],
   "source": [
    "models_to_test = [value_based_model, policy_ips]\n",
    "value_result, policy_result = AB_test_greedy(models_to_test, N_test)\n",
    "\n",
    "print('the reward for value based learning is %.4f'%value_result)\n",
    "print('the reward for policy based learning - IPS is %.4f'%policy_result)"
   ]
  },
  {
   "cell_type": "markdown",
   "metadata": {},
   "source": [
    "One can see that policy based learning gets the upper hand slightly because of different factors:\n",
    "\n",
    "- The reward model is clearly miss-specified.\n",
    "- We have a small action space/enough datapoints.\n",
    "- A random logging policy.\n",
    "\n",
    "To get a grasp of the theory discussed in the slides and get different behaviors of the learning methods, we highly encourage you to try to :\n",
    "\n",
    "- Increase the number of actions. (Change K)\n",
    "- Modify the number of points we collect. (Change N)\n",
    "- Increase the complexity of the reward model. (Use a Deep neural network instead of a linear function)\n",
    "- Change the logging policy. (It is random in this example)\n"
   ]
  },
  {
   "cell_type": "markdown",
   "metadata": {},
   "source": [
    "In this notebook, our focus is to present one of the classic methods of combining the reward model with policy learning, and be able to distinguish the cases where it can do wonders and others where it can only do harm."
   ]
  },
  {
   "cell_type": "markdown",
   "metadata": {},
   "source": [
    "### Doubly Robust Learning : A way to reduce variance of the IPS Estimator"
   ]
  },
  {
   "cell_type": "markdown",
   "metadata": {},
   "source": [
    "Having learned a good reward model $\\hat{r}^*$, one defines the doubly robust objective (which is unbiased) as follows :\n",
    "\n",
    "$$ L_{DR}(\\pi_\\theta, D_i) := - [r_i - \\hat{r}^*(a_i, x_i)]\\frac{\\pi_\\theta(a_i|x_i)}{\\pi_0(a_i|x_i)} - \\sum_a \\pi_\\theta(a|x_i)\\hat{r}^*(a, x_i) $$\n",
    "\n",
    "One can see that this loss function has an increased computational cost as it involves a sum over all possible actions + a computation of the estimated reward. (very costly if the action space is large or the reward model is very costly to compute), so what does it bring to the table? Let's analyse the variance of this estimator! \n",
    "\n",
    "We have :\n",
    "\n",
    "$$ Var(L_{DR}(\\pi_\\theta, D_i)) = Var(L_{IPS}(\\pi_\\theta, D_i)) + Var[\\hat{r}^*(a_i, x_i)\\frac{\\pi_\\theta(a_i|x_i)}{\\pi_0(a_i|x_i)}] - 2Cov(r_i\\frac{\\pi_\\theta(a_i|x_i)}{\\pi_0(a_i|x_i)}, \\hat{r}^*(a_i, x_i)\\frac{\\pi_\\theta(a_i|x_i)}{\\pi_0(a_i|x_i)}) $$\n",
    "\n",
    "We obtain a variance reduction from the simple IPS objective when $Var(L_{DR}) \\le Var(L_{IPS})$, which is actually when :\n",
    "\n",
    "\\begin{align} \n",
    "Var[\\hat{r}^*(a_i, x_i)\\frac{\\pi_\\theta(a_i|x_i)}{\\pi_0(a_i|x_i)}] \\le 2Cov(r_i\\frac{\\pi_\\theta(a_i|x_i)}{\\pi_0(a_i|x_i)}, \\hat{r}^*(a_i, x_i)\\frac{\\pi_\\theta(a_i|x_i)}{\\pi_0(a_i|x_i)})\n",
    "\\end{align}\n",
    "\n",
    "which means that we need a significant covariance between $r_i\\frac{\\pi_\\theta(a_i|x_i)}{\\pi_0(a_i|x_i)}$ and $\\hat{r}^*(a_i, x_i)\\frac{\\pi_\\theta(a_i|x_i)}{\\pi_0(a_i|x_i)}$ to expect a variance reduction. We refer to the condition above by the DR condition.\n",
    "\n",
    "One simple way to check if this DR condition can hold is to compute the corelation between $r_i$ and $\\hat{r}^*(a_i, x_i)$, in the sense that if both quantities are **positively** correlated, multiplying them wih the same function $\\frac{\\pi_\\theta(a_i|x_i)}{\\pi_0(a_i|x_i)}$ will get us a high positive covariance too. \n",
    "\n",
    "Of course, this is only a proxy for the DR Condition and is easier to check because we don't need to compute $\\frac{\\pi_\\theta(a_i|x_i)}{\\pi_0(a_i|x_i)}$ (thus, learning a policy)."
   ]
  },
  {
   "cell_type": "code",
   "execution_count": 17,
   "metadata": {},
   "outputs": [
    {
     "name": "stdout",
     "output_type": "stream",
     "text": [
      "The correlation between the observed reward and the estimated reward is equal to 0.2852\n"
     ]
    }
   ],
   "source": [
    "#compute \\hat{r}\n",
    "np_pred_rewards = value_based_model(contexts_torch).detach().numpy()\n",
    "np_actions_pred_rewards = np_pred_rewards[np.arange(N), actions]\n",
    "\n",
    "#compute its correlation with the observed reward\n",
    "cor = np.corrcoef(np_actions_pred_rewards, rewards)[0,1]\n",
    "print(\"The correlation between the observed reward and the estimated reward is equal to %.4f\"%cor)"
   ]
  },
  {
   "cell_type": "markdown",
   "metadata": {},
   "source": [
    "They seem to be somewhat correlated so we can say that doubly robust learning can improve the results.\n",
    "\n",
    "As we already have a policy learned, we can test out the full DR condition. \n",
    "\n",
    "we use the previously learned reward model, the previously learned policy and the observations we have to compute an empirical version of the different quantities."
   ]
  },
  {
   "cell_type": "code",
   "execution_count": 18,
   "metadata": {},
   "outputs": [],
   "source": [
    "np_iw = (policy_ips(contexts_torch)[np.arange(N), actions]/propensities_torch).detach().numpy()\n",
    "np_pred_rewards = value_based_model(contexts_torch).detach().numpy()\n",
    "np_actions_pred_rewards = np_pred_rewards[np.arange(N), actions]"
   ]
  },
  {
   "cell_type": "code",
   "execution_count": 19,
   "metadata": {},
   "outputs": [],
   "source": [
    "cov_matrix = np.cov([np_actions_pred_rewards*np_iw, rewards*np_iw])\n",
    "var, cov = cov_matrix[0,0], cov_matrix[0,1]"
   ]
  },
  {
   "cell_type": "code",
   "execution_count": 20,
   "metadata": {},
   "outputs": [
    {
     "name": "stdout",
     "output_type": "stream",
     "text": [
      "the variance (left quantity) is equal to 0.5641\n",
      "the 2*covariance (right quantity) is equal to 1.1698\n"
     ]
    }
   ],
   "source": [
    "print(\"the variance (left quantity) is equal to %.4f\"%var)\n",
    "print(\"the 2*covariance (right quantity) is equal to %.4f\"%(2*cov))"
   ]
  },
  {
   "cell_type": "markdown",
   "metadata": {},
   "source": [
    "We indeed have the DR condition **satisfied** with a large margin, so we expect a good variance reduction achieved with the doubly robust objective.\n",
    "\n",
    "Empirically, let's train a policy with the doubly robust objective and see how it behaves :"
   ]
  },
  {
   "cell_type": "code",
   "execution_count": 21,
   "metadata": {},
   "outputs": [],
   "source": [
    "policy_doubly_robust = policy_model(d, K)\n",
    "value_based_pred_rewards = value_based_model(contexts_torch).detach()\n",
    "actions_pred_rewards = value_based_pred_rewards[np.arange(N), actions]"
   ]
  },
  {
   "cell_type": "code",
   "execution_count": 22,
   "metadata": {},
   "outputs": [
    {
     "data": {
      "image/png": "[encoded data removed]",
      "text/plain": [
       "<Figure size 432x288 with 1 Axes>"
      ]
     },
     "metadata": {
      "needs_background": "light"
     },
     "output_type": "display_data"
    }
   ],
   "source": [
    "optimizer = torch.optim.SGD(policy_doubly_robust.parameters(), lr=1e-2, weight_decay=1/N)\n",
    "losses = []\n",
    "\n",
    "for it in range(iterations):\n",
    "    policy_probs = policy_doubly_robust(contexts_torch)\n",
    "    actions_probs = policy_probs[np.arange(N), actions]\n",
    "    \n",
    "    pointwise_loss = actions_probs * (rewards_torch - actions_pred_rewards)/propensities_torch + torch.sum(policy_probs * value_based_pred_rewards, dim=-1)\n",
    "    loss = - torch.mean(pointwise_loss)\n",
    "    losses.append(loss.item())\n",
    "    optimizer.zero_grad()\n",
    "    loss.backward()\n",
    "    optimizer.step()\n",
    "    \n",
    "plt.plot(np.arange(iterations), losses)\n",
    "plt.show()"
   ]
  },
  {
   "cell_type": "markdown",
   "metadata": {},
   "source": [
    "#### Testing the models Online "
   ]
  },
  {
   "cell_type": "code",
   "execution_count": 23,
   "metadata": {},
   "outputs": [
    {
     "name": "stderr",
     "output_type": "stream",
     "text": [
      "100%|██████████| 100000/100000 [00:31<00:00, 3186.96it/s]\n"
     ]
    },
    {
     "name": "stdout",
     "output_type": "stream",
     "text": [
      "the reward for value based learning is 0.3980\n",
      "the reward for policy learning is 0.4083\n",
      "the reward for doubly robust policy learning is 0.4167\n"
     ]
    }
   ],
   "source": [
    "models_to_test = [value_based_model, policy_ips, policy_doubly_robust]\n",
    "value_result, ips_result, dr_result = AB_test_greedy(models_to_test, N_test)\n",
    "\n",
    "print('the reward for value based learning is %.4f'%value_result)\n",
    "print('the reward for policy learning is %.4f'%ips_result)\n",
    "print('the reward for doubly robust policy learning is %.4f'%dr_result)"
   ]
  },
  {
   "cell_type": "code",
   "execution_count": 24,
   "metadata": {},
   "outputs": [
    {
     "data": {
      "image/png": "[encoded data removed]",
      "text/plain": [
       "<Figure size 432x288 with 1 Axes>"
      ]
     },
     "metadata": {
      "needs_background": "light"
     },
     "output_type": "display_data"
    }
   ],
   "source": [
    "labels = ['value model', 'policy-IPS', 'policy-DR']\n",
    "perfs = 100.*(np.array([value_result, policy_result, dr_result])/logging_results - 1.0)\n",
    "\n",
    "splot = sns.barplot(x = labels, y = perfs)\n",
    "for p in splot.patches:\n",
    "    splot.annotate(format(p.get_height(), '.2f')+'%', \n",
    "                   (p.get_x() + p.get_width() / 2., p.get_height()), \n",
    "                   ha = 'center', va = 'center', \n",
    "                   size=15,\n",
    "                   xytext = (0, -12), \n",
    "                   textcoords = 'offset points')\n",
    "    \n",
    "plt.title('Improvements of the learned models over the logging policy')\n",
    "plt.ylabel('Percentage')\n",
    "plt.show()"
   ]
  },
  {
   "cell_type": "markdown",
   "metadata": {},
   "source": [
    "All the methods get us a good improvement over our random logging policy with **DRL** getting us the best resutlts."
   ]
  },
  {
   "cell_type": "markdown",
   "metadata": {},
   "source": [
    "### Online Ads Setting : Sparse Rewards "
   ]
  },
  {
   "cell_type": "markdown",
   "metadata": {},
   "source": [
    "We deploy our first system to collect/log a dataset from which we want to learn a good recommendation engine."
   ]
  },
  {
   "cell_type": "code",
   "execution_count": 25,
   "metadata": {},
   "outputs": [],
   "source": [
    "torch.manual_seed(0)\n",
    "np.random.seed(0)\n",
    "\n",
    "N = 10_000\n",
    "contexts, actions, propensities, rewards = online_system_simulator(current_system = pi_0, size = N, setting='sparse')"
   ]
  },
  {
   "cell_type": "markdown",
   "metadata": {},
   "source": [
    "Let's have a look at the distribution of the rewards gotten in this setting :"
   ]
  },
  {
   "cell_type": "code",
   "execution_count": 26,
   "metadata": {},
   "outputs": [
    {
     "name": "stdout",
     "output_type": "stream",
     "text": [
      "the average reward of the logging policy (Random) is 0.0209\n"
     ]
    },
    {
     "data": {
      "image/png": "[encoded data removed]",
      "text/plain": [
       "<Figure size 432x288 with 1 Axes>"
      ]
     },
     "metadata": {
      "needs_background": "light"
     },
     "output_type": "display_data"
    }
   ],
   "source": [
    "logging_results = np.mean(rewards)\n",
    "print(\"the average reward of the logging policy (Random) is %.4f\"%logging_results)\n",
    "sns.distplot(rewards)\n",
    "plt.show()"
   ]
  },
  {
   "cell_type": "markdown",
   "metadata": {},
   "source": [
    "One can see that the support of the reward completely changed in this setting, it is binary with a big probability of not having a click, making the reward signal very low."
   ]
  },
  {
   "cell_type": "markdown",
   "metadata": {},
   "source": [
    "### Learning a Value model - Sparse Setting:\n",
    "\n",
    "In this case, as the reward is binary, our value model is a simple **logistic** regression from the contexts to the reward vector for each action: $ \\hat{r}_\\theta(x,a) = \\sigma(\\theta_a^Tx) $ with $\\theta_a$ being the ath column of our matrix, and $\\sigma$ being the sigmoid function.\n",
    "\n",
    "For a single datapoint $D_i$, the loss function (the negative loglikelihood up to a constant) of our model is :\n",
    "\n",
    "$$ LM(\\hat{r}_\\theta, D_i) = - [r_i\\log(\\hat{r}_\\theta(x_i, a_i)) + (1 - r_i)\\log(1 - \\hat{r}_\\theta(x_i, a_i))]  $$\n",
    "\n",
    "We optimize the average loss over the whole datapoints to obtain the minimum $\\hat{r}^*$."
   ]
  },
  {
   "cell_type": "code",
   "execution_count": 27,
   "metadata": {},
   "outputs": [],
   "source": [
    "class reward_model_sp(torch.nn.Module):\n",
    "    def __init__(self, d, K):\n",
    "        super(reward_model_sp, self).__init__()\n",
    "        self.theta = torch.nn.Linear(d, K)\n",
    "\n",
    "    def forward(self, x):\n",
    "        return torch.sigmoid(self.theta(x))"
   ]
  },
  {
   "cell_type": "code",
   "execution_count": 28,
   "metadata": {},
   "outputs": [],
   "source": [
    "value_based_model_sp = reward_model_sp(d, K)\n",
    "\n",
    "contexts_torch = torch.Tensor(contexts)\n",
    "rewards_torch = torch.Tensor(rewards)\n",
    "propensities_torch = torch.Tensor(propensities)"
   ]
  },
  {
   "cell_type": "code",
   "execution_count": 29,
   "metadata": {},
   "outputs": [
    {
     "data": {
      "image/png": "[encoded data removed]",
      "text/plain": [
       "<Figure size 432x288 with 1 Axes>"
      ]
     },
     "metadata": {
      "needs_background": "light"
     },
     "output_type": "display_data"
    }
   ],
   "source": [
    "loss_function = torch.nn.BCELoss(reduction='mean')\n",
    "optimizer = torch.optim.SGD(value_based_model_sp.parameters(), lr=1e-2, weight_decay=1/N)\n",
    "losses = []\n",
    "\n",
    "for it in range(iterations):\n",
    "    full_rewards_pred = value_based_model_sp(contexts_torch)\n",
    "    action_rewards = full_rewards_pred[np.arange(N), actions]\n",
    "    loss = loss_function(action_rewards, rewards_torch)\n",
    "    losses.append(loss.item())\n",
    "    if (it > 100) and np.isclose(losses[-1], losses[-2], atol=.0, rtol=1e-4) : break\n",
    "    optimizer.zero_grad()\n",
    "    loss.backward()\n",
    "    optimizer.step()\n",
    "\n",
    "plt.plot(np.arange(it + 1), losses)\n",
    "plt.show()"
   ]
  },
  {
   "cell_type": "markdown",
   "metadata": {},
   "source": [
    "So as to not learn/derive a policy to check the full DR condition, we're gonna stick to computing how much our reward estimate is correlated with the observed reward. Intuitively, as the observed reward is binary with most entries at 0, the correlation with a continuous signal (probability between [0,1]) would be low.\n",
    "\n",
    "Let's check if this is true :"
   ]
  },
  {
   "cell_type": "code",
   "execution_count": 30,
   "metadata": {},
   "outputs": [
    {
     "name": "stdout",
     "output_type": "stream",
     "text": [
      "The correlation between the observed reward and the estimated reward is equal to 0.0849\n"
     ]
    }
   ],
   "source": [
    "#compute \\hat{r}\n",
    "np_pred_rewards = value_based_model_sp(contexts_torch).detach().numpy()\n",
    "np_actions_pred_rewards = np_pred_rewards[np.arange(N), actions]\n",
    "\n",
    "#compute its correlation with the observed reward\n",
    "cor = np.corrcoef(np_actions_pred_rewards, rewards)[0,1]\n",
    "print(\"The correlation between the observed reward and the estimated reward is equal to %.4f\"%cor)"
   ]
  },
  {
   "cell_type": "markdown",
   "metadata": {},
   "source": [
    "The correlation between these two signals is low and we expect no variance reduction leading to no improvement over IPS.\n",
    "\n",
    "In practice, this condition is enough to stop experimenting with Doubly Robust and maybe try other ways of improving the IPS estimator, but for the sake of the tutorial, we are going to check how DR behaves compared to IPS even in this setting."
   ]
  },
  {
   "cell_type": "markdown",
   "metadata": {},
   "source": [
    "### Learning a Policy with IPS - Sparse Setting :"
   ]
  },
  {
   "cell_type": "code",
   "execution_count": 31,
   "metadata": {},
   "outputs": [],
   "source": [
    "policy_ips_sp = policy_model(d, K)"
   ]
  },
  {
   "cell_type": "code",
   "execution_count": 32,
   "metadata": {},
   "outputs": [
    {
     "data": {
      "image/png": "[encoded data removed]",
      "text/plain": [
       "<Figure size 432x288 with 1 Axes>"
      ]
     },
     "metadata": {
      "needs_background": "light"
     },
     "output_type": "display_data"
    }
   ],
   "source": [
    "optimizer = torch.optim.SGD(policy_ips_sp.parameters(), lr=1e-2, weight_decay=1/N)\n",
    "losses = []\n",
    "\n",
    "for it in range(iterations):\n",
    "    policy_probs = policy_ips_sp(contexts_torch)\n",
    "    actions_probs = policy_probs[np.arange(N), actions]\n",
    "    loss = - torch.mean((actions_probs * rewards_torch)/propensities_torch)\n",
    "    losses.append(loss.item())\n",
    "    \n",
    "    optimizer.zero_grad()\n",
    "    loss.backward()\n",
    "    optimizer.step()\n",
    "\n",
    "plt.plot(np.arange(iterations), losses)\n",
    "plt.show()"
   ]
  },
  {
   "cell_type": "markdown",
   "metadata": {},
   "source": [
    "as we already learned a policy, let's test out the DR condition :"
   ]
  },
  {
   "cell_type": "code",
   "execution_count": 33,
   "metadata": {},
   "outputs": [],
   "source": [
    "np_iw_sp = (policy_ips_sp(contexts_torch)[np.arange(N), actions]/propensities_torch).detach().numpy()\n",
    "np_pred_rewards_sp = value_based_model_sp(contexts_torch).detach().numpy()\n",
    "np_actions_pred_rewards_sp = np_pred_rewards_sp[np.arange(N), actions]"
   ]
  },
  {
   "cell_type": "code",
   "execution_count": 34,
   "metadata": {},
   "outputs": [],
   "source": [
    "cov_matrix = np.cov([np_actions_pred_rewards_sp*np_iw_sp, rewards*np_iw_sp])\n",
    "var, cov = cov_matrix[0,0], cov_matrix[0,1]"
   ]
  },
  {
   "cell_type": "code",
   "execution_count": 35,
   "metadata": {},
   "outputs": [
    {
     "name": "stdout",
     "output_type": "stream",
     "text": [
      "the variance (left quantity) is equal to 0.0336\n",
      "the 2*covariance (right quantity) is equal to 0.0269\n"
     ]
    }
   ],
   "source": [
    "print(\"the variance (left quantity) is equal to %.4f\"%var)\n",
    "print(\"the 2*covariance (right quantity) is equal to %.4f\"%(2*cov))"
   ]
  },
  {
   "cell_type": "markdown",
   "metadata": {},
   "source": [
    "the DR condition **doesn't hold** and we expect DR to behave badly compared to IPS."
   ]
  },
  {
   "cell_type": "markdown",
   "metadata": {},
   "source": [
    "### Learning a Policy with DR - Sparse Setting :"
   ]
  },
  {
   "cell_type": "code",
   "execution_count": 36,
   "metadata": {},
   "outputs": [],
   "source": [
    "policy_doubly_robust_sp = policy_model(d, K)\n",
    "value_based_pred_rewards = value_based_model(contexts_torch).detach()\n",
    "actions_pred_rewards = value_based_pred_rewards[np.arange(N), actions]"
   ]
  },
  {
   "cell_type": "code",
   "execution_count": 37,
   "metadata": {},
   "outputs": [
    {
     "data": {
      "image/png": "[encoded data removed]",
      "text/plain": [
       "<Figure size 432x288 with 1 Axes>"
      ]
     },
     "metadata": {
      "needs_background": "light"
     },
     "output_type": "display_data"
    }
   ],
   "source": [
    "optimizer = torch.optim.SGD(policy_doubly_robust_sp.parameters(), lr=1e-2, weight_decay=1/N)\n",
    "losses = []\n",
    "\n",
    "for it in range(iterations):\n",
    "    policy_probs = policy_doubly_robust_sp(contexts_torch)\n",
    "    actions_probs = policy_probs[np.arange(N), actions]\n",
    "    \n",
    "    pointwise_loss = actions_probs * (rewards_torch - actions_pred_rewards)/propensities_torch + torch.sum(policy_probs * value_based_pred_rewards, dim=-1)\n",
    "    loss = - torch.mean(pointwise_loss)\n",
    "    losses.append(loss.item())\n",
    "    \n",
    "    optimizer.zero_grad()\n",
    "    loss.backward()\n",
    "    optimizer.step()\n",
    "    \n",
    "plt.plot(np.arange(iterations), losses)\n",
    "plt.show()"
   ]
  },
  {
   "cell_type": "markdown",
   "metadata": {},
   "source": [
    "#### Testing the learned models online  - Sparse Setting :"
   ]
  },
  {
   "cell_type": "code",
   "execution_count": 38,
   "metadata": {},
   "outputs": [
    {
     "name": "stderr",
     "output_type": "stream",
     "text": [
      "100%|██████████| 100000/100000 [00:24<00:00, 4097.99it/s]\n"
     ]
    },
    {
     "name": "stdout",
     "output_type": "stream",
     "text": [
      "the reward for value based learning is 0.0363\n",
      "the reward for policy learning is 0.0376\n",
      "the reward for doubly robust policy learning is 0.0340\n"
     ]
    }
   ],
   "source": [
    "models_to_test = [value_based_model_sp, policy_ips_sp, policy_doubly_robust_sp]\n",
    "value_result, ips_result, dr_result = AB_test_greedy(models_to_test, N_test, setting='sparse')\n",
    "\n",
    "print('the reward for value based learning is %.4f'%value_result)\n",
    "print('the reward for policy learning is %.4f'%ips_result)\n",
    "print('the reward for doubly robust policy learning is %.4f'%dr_result)"
   ]
  },
  {
   "cell_type": "markdown",
   "metadata": {},
   "source": [
    "As expected, DR didn't achieve any variance reduction and resulted in a worse policy than IPS and Value Modeling, with additional computational cost. \n",
    "\n",
    "DR is always motivated by a variance reduction argument, and is what we were trying to show with the notebook. However, how its objective behave in learning is far from being understood theoretically. In the general case, an estimator with better variance will help the learning, but if two estimators have the same variance, we need to analyse other properties of the objective to get out with a conclusion."
   ]
  },
  {
   "cell_type": "markdown",
   "metadata": {},
   "source": [
    "## Practical Guidelines :\n",
    "\n",
    "This notebook is not by any mean complete, and is just a attempt to present the doubly robust estimator (a way to combine model and policy) and show with examples when we can expect an improvement with it. To make the comparison interesting, one should use real datasets, more complex simulators, repeat the experiments, change the seeds.. In Practice however, we see that :\n",
    "\n",
    "- Doubly Robust can be a very efficient method of variance reduction when the reward signal is dense. \n",
    "- Once you deal with very sparse rewards, DR can just increase the computational cost without any significant improvement. See [An Empirical Evaluation of Doubly Robust Learning for Recommendation](http://adrem.uantwerpen.be/bibrem/pubs/JeunenREVEAL2020.pdf) for a better empirical evaluation.\n",
    "\n"
   ]
  }
 ],
 "metadata": {
  "kernelspec": {
   "display_name": "Python 3",
   "language": "python",
   "name": "python3"
  },
  "language_info": {
   "codemirror_mode": {
    "name": "ipython",
    "version": 3
   },
   "file_extension": ".py",
   "mimetype": "text/x-python",
   "name": "python",
   "nbconvert_exporter": "python",
   "pygments_lexer": "ipython3",
   "version": "3.7.4"
  }
 },
 "nbformat": 4,
 "nbformat_minor": 4
}
